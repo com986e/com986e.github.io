{
  "metadata": {
    "kernelspec": {
      "language": "python",
      "display_name": "Python 3",
      "name": "python3"
    },
    "language_info": {
      "pygments_lexer": "ipython3",
      "nbconvert_exporter": "python",
      "version": "3.6.4",
      "file_extension": ".py",
      "codemirror_mode": {
        "name": "ipython",
        "version": 3
      },
      "name": "python",
      "mimetype": "text/x-python"
    },
    "colab": {
      "name": "titanic-survivor-2020700067-hblee.ipynb",
      "provenance": [],
      "include_colab_link": true
    }
  },
  "nbformat_minor": 0,
  "nbformat": 4,
  "cells": [
    {
      "cell_type": "markdown",
      "metadata": {
        "id": "view-in-github",
        "colab_type": "text"
      },
      "source": [
        "<a href=\"https://colab.research.google.com/github/com986e/com986e.github.io/blob/master/titanic_survivor_2020700067_hblee.ipynb\" target=\"_parent\"><img src=\"https://colab.research.google.com/assets/colab-badge.svg\" alt=\"Open In Colab\"/></a>"
      ]
    },
    {
      "cell_type": "code",
      "source": [
        "import pandas as pd\n",
        "import numpy as np\n",
        "\n",
        "train = pd.read_csv('../input/titanic/train.csv')\n",
        "test = pd.read_csv('../input/titanic/test.csv')"
      ],
      "metadata": {
        "_uuid": "8f2839f25d086af736a60e9eeb907d3b93b6e0e5",
        "_cell_guid": "b1076dfc-b9ad-4769-8c92-a6c4dae69d19",
        "execution": {
          "iopub.status.busy": "2022-04-11T13:14:33.890839Z",
          "iopub.execute_input": "2022-04-11T13:14:33.892181Z",
          "iopub.status.idle": "2022-04-11T13:14:33.912803Z",
          "shell.execute_reply.started": "2022-04-11T13:14:33.892136Z",
          "shell.execute_reply": "2022-04-11T13:14:33.911901Z"
        },
        "trusted": true,
        "id": "bUkr-KGwmvPi"
      },
      "execution_count": null,
      "outputs": []
    },
    {
      "cell_type": "code",
      "source": [
        "train.head(5)"
      ],
      "metadata": {
        "execution": {
          "iopub.status.busy": "2022-04-11T13:14:34.058922Z",
          "iopub.execute_input": "2022-04-11T13:14:34.059239Z",
          "iopub.status.idle": "2022-04-11T13:14:34.075134Z",
          "shell.execute_reply.started": "2022-04-11T13:14:34.059199Z",
          "shell.execute_reply": "2022-04-11T13:14:34.074323Z"
        },
        "trusted": true,
        "id": "wWs_H65imvPm"
      },
      "execution_count": null,
      "outputs": []
    },
    {
      "cell_type": "code",
      "source": [
        "print('train data shape: ', train.shape)\n",
        "print('test data shape: ', test.shape)\n",
        "print('----------[train infomation]----------')\n",
        "print(train.info())\n",
        "print('----------[test infomation]----------')\n",
        "print(test.info())"
      ],
      "metadata": {
        "execution": {
          "iopub.status.busy": "2022-04-11T13:14:34.212259Z",
          "iopub.execute_input": "2022-04-11T13:14:34.212516Z",
          "iopub.status.idle": "2022-04-11T13:14:34.236134Z",
          "shell.execute_reply.started": "2022-04-11T13:14:34.21249Z",
          "shell.execute_reply": "2022-04-11T13:14:34.234845Z"
        },
        "trusted": true,
        "id": "uUm85tbhmvPm"
      },
      "execution_count": null,
      "outputs": []
    },
    {
      "cell_type": "code",
      "source": [
        "train.isnull().sum()"
      ],
      "metadata": {
        "execution": {
          "iopub.status.busy": "2022-04-11T13:14:34.34185Z",
          "iopub.execute_input": "2022-04-11T13:14:34.342125Z",
          "iopub.status.idle": "2022-04-11T13:14:34.352161Z",
          "shell.execute_reply.started": "2022-04-11T13:14:34.342099Z",
          "shell.execute_reply": "2022-04-11T13:14:34.35124Z"
        },
        "trusted": true,
        "id": "fhM6XldimvPn"
      },
      "execution_count": null,
      "outputs": []
    },
    {
      "cell_type": "code",
      "source": [
        "test.isnull().sum()"
      ],
      "metadata": {
        "execution": {
          "iopub.status.busy": "2022-04-11T13:14:34.44976Z",
          "iopub.execute_input": "2022-04-11T13:14:34.450379Z",
          "iopub.status.idle": "2022-04-11T13:14:34.458848Z",
          "shell.execute_reply.started": "2022-04-11T13:14:34.450341Z",
          "shell.execute_reply": "2022-04-11T13:14:34.458158Z"
        },
        "trusted": true,
        "id": "S2TZIP2hmvPo"
      },
      "execution_count": null,
      "outputs": []
    },
    {
      "cell_type": "code",
      "source": [
        "import matplotlib.pyplot as plt\n",
        "%matplotlib inline\n",
        "import seaborn as sns\n",
        "sns.set()"
      ],
      "metadata": {
        "execution": {
          "iopub.status.busy": "2022-04-11T13:14:34.57588Z",
          "iopub.execute_input": "2022-04-11T13:14:34.576546Z",
          "iopub.status.idle": "2022-04-11T13:14:34.583283Z",
          "shell.execute_reply.started": "2022-04-11T13:14:34.576498Z",
          "shell.execute_reply": "2022-04-11T13:14:34.582405Z"
        },
        "trusted": true,
        "id": "Ekc9-ULBmvPo"
      },
      "execution_count": null,
      "outputs": []
    },
    {
      "cell_type": "code",
      "source": [
        "def pie_chart(feature):\n",
        "    feature_ratio = train[feature].value_counts(sort=False)\n",
        "    feature_size = feature_ratio.size\n",
        "    feature_index = feature_ratio.index\n",
        "    survived = train[train['Survived'] == 1][feature].value_counts()\n",
        "    dead = train[train['Survived'] == 0][feature].value_counts()\n",
        "    \n",
        "    plt.plot(aspect='auto')\n",
        "    plt.pie(feature_ratio, labels=feature_index, autopct='%1.1f%%')\n",
        "    plt.title(feature + '\\'s ratio in total')\n",
        "    plt.show()\n",
        "    \n",
        "    for i, index in enumerate(feature_index):\n",
        "        plt.subplot(1, feature_size + 1, i + 1, aspect='equal')\n",
        "        plt.pie([survived[index], dead[index]], labels=['Survivied', 'Dead'], autopct='%1.1f%%')\n",
        "        plt.title(str(index) + '\\'s ratio')\n",
        "    \n",
        "    plt.show()"
      ],
      "metadata": {
        "execution": {
          "iopub.status.busy": "2022-04-11T13:14:34.724238Z",
          "iopub.execute_input": "2022-04-11T13:14:34.724513Z",
          "iopub.status.idle": "2022-04-11T13:14:34.731716Z",
          "shell.execute_reply.started": "2022-04-11T13:14:34.724485Z",
          "shell.execute_reply": "2022-04-11T13:14:34.730929Z"
        },
        "trusted": true,
        "id": "MJs2ttUMmvPp"
      },
      "execution_count": null,
      "outputs": []
    },
    {
      "cell_type": "code",
      "source": [
        "pie_chart('Sex')"
      ],
      "metadata": {
        "execution": {
          "iopub.status.busy": "2022-04-11T13:14:34.872821Z",
          "iopub.execute_input": "2022-04-11T13:14:34.873198Z",
          "iopub.status.idle": "2022-04-11T13:14:35.078086Z",
          "shell.execute_reply.started": "2022-04-11T13:14:34.873155Z",
          "shell.execute_reply": "2022-04-11T13:14:35.077183Z"
        },
        "trusted": true,
        "id": "HSjL7rQrmvPq"
      },
      "execution_count": null,
      "outputs": []
    },
    {
      "cell_type": "code",
      "source": [
        "pie_chart('Pclass')"
      ],
      "metadata": {
        "execution": {
          "iopub.status.busy": "2022-04-11T13:14:35.080472Z",
          "iopub.execute_input": "2022-04-11T13:14:35.080955Z",
          "iopub.status.idle": "2022-04-11T13:14:35.350063Z",
          "shell.execute_reply.started": "2022-04-11T13:14:35.080911Z",
          "shell.execute_reply": "2022-04-11T13:14:35.349164Z"
        },
        "trusted": true,
        "id": "WNZk14yhmvPq"
      },
      "execution_count": null,
      "outputs": []
    },
    {
      "cell_type": "code",
      "source": [
        "pie_chart('Embarked')"
      ],
      "metadata": {
        "execution": {
          "iopub.status.busy": "2022-04-11T13:14:35.352002Z",
          "iopub.execute_input": "2022-04-11T13:14:35.352321Z",
          "iopub.status.idle": "2022-04-11T13:14:35.625495Z",
          "shell.execute_reply.started": "2022-04-11T13:14:35.352279Z",
          "shell.execute_reply": "2022-04-11T13:14:35.624511Z"
        },
        "trusted": true,
        "id": "gUhEPlVSmvPr"
      },
      "execution_count": null,
      "outputs": []
    },
    {
      "cell_type": "code",
      "source": [
        "def bar_chart(feature):\n",
        "    survived = train[train['Survived']==1][feature].value_counts()\n",
        "    dead = train[train['Survived']==0][feature].value_counts()\n",
        "    df = pd.DataFrame([survived,dead])\n",
        "    df.index = ['Survived','Dead']\n",
        "    df.plot(kind='bar',stacked=True, figsize=(10,5))"
      ],
      "metadata": {
        "execution": {
          "iopub.status.busy": "2022-04-11T13:14:35.62696Z",
          "iopub.execute_input": "2022-04-11T13:14:35.627361Z",
          "iopub.status.idle": "2022-04-11T13:14:35.634388Z",
          "shell.execute_reply.started": "2022-04-11T13:14:35.627316Z",
          "shell.execute_reply": "2022-04-11T13:14:35.633529Z"
        },
        "trusted": true,
        "id": "alSocKzHmvPr"
      },
      "execution_count": null,
      "outputs": []
    },
    {
      "cell_type": "code",
      "source": [
        "bar_chart(\"SibSp\")"
      ],
      "metadata": {
        "execution": {
          "iopub.status.busy": "2022-04-11T13:14:35.6362Z",
          "iopub.execute_input": "2022-04-11T13:14:35.637032Z",
          "iopub.status.idle": "2022-04-11T13:14:35.885013Z",
          "shell.execute_reply.started": "2022-04-11T13:14:35.636966Z",
          "shell.execute_reply": "2022-04-11T13:14:35.884036Z"
        },
        "trusted": true,
        "id": "XadYF16bmvPs"
      },
      "execution_count": null,
      "outputs": []
    },
    {
      "cell_type": "code",
      "source": [
        "bar_chart(\"Parch\")"
      ],
      "metadata": {
        "execution": {
          "iopub.status.busy": "2022-04-11T13:14:35.886542Z",
          "iopub.execute_input": "2022-04-11T13:14:35.887242Z",
          "iopub.status.idle": "2022-04-11T13:14:36.136942Z",
          "shell.execute_reply.started": "2022-04-11T13:14:35.88719Z",
          "shell.execute_reply": "2022-04-11T13:14:36.135467Z"
        },
        "trusted": true,
        "id": "E__G9D7dmvPs"
      },
      "execution_count": null,
      "outputs": []
    },
    {
      "cell_type": "code",
      "source": [
        "train.head(5)"
      ],
      "metadata": {
        "execution": {
          "iopub.status.busy": "2022-04-11T13:14:36.138856Z",
          "iopub.execute_input": "2022-04-11T13:14:36.139152Z",
          "iopub.status.idle": "2022-04-11T13:14:36.156457Z",
          "shell.execute_reply.started": "2022-04-11T13:14:36.139119Z",
          "shell.execute_reply": "2022-04-11T13:14:36.155222Z"
        },
        "trusted": true,
        "id": "5zJAGCc3mvPt"
      },
      "execution_count": null,
      "outputs": []
    },
    {
      "cell_type": "code",
      "source": [
        "train_and_test = [train, test]\n",
        "\n",
        "for dataset in train_and_test:\n",
        "    dataset['Title'] = dataset.Name.str.extract(' ([A-Za-z]+)\\.')\n",
        "\n",
        "train.head(5)"
      ],
      "metadata": {
        "execution": {
          "iopub.status.busy": "2022-04-11T13:14:36.158365Z",
          "iopub.execute_input": "2022-04-11T13:14:36.158709Z",
          "iopub.status.idle": "2022-04-11T13:14:36.190117Z",
          "shell.execute_reply.started": "2022-04-11T13:14:36.158654Z",
          "shell.execute_reply": "2022-04-11T13:14:36.189178Z"
        },
        "trusted": true,
        "id": "Xwtakuf9mvPt"
      },
      "execution_count": null,
      "outputs": []
    },
    {
      "cell_type": "code",
      "source": [
        "pd.crosstab(train['Title'], train['Sex'])"
      ],
      "metadata": {
        "execution": {
          "iopub.status.busy": "2022-04-11T13:14:36.191541Z",
          "iopub.execute_input": "2022-04-11T13:14:36.192549Z",
          "iopub.status.idle": "2022-04-11T13:14:36.217682Z",
          "shell.execute_reply.started": "2022-04-11T13:14:36.192489Z",
          "shell.execute_reply": "2022-04-11T13:14:36.216723Z"
        },
        "trusted": true,
        "id": "IO9zCIT_mvPt"
      },
      "execution_count": null,
      "outputs": []
    },
    {
      "cell_type": "code",
      "source": [
        "for dataset in train_and_test:\n",
        "    dataset['Title'] = dataset['Title'].replace(['Capt', 'Col', 'Countess', 'Don','Dona', 'Dr', 'Jonkheer',\n",
        "                                                 'Lady','Major', 'Rev', 'Sir'], 'Other')\n",
        "    dataset['Title'] = dataset['Title'].replace('Mlle', 'Miss')\n",
        "    dataset['Title'] = dataset['Title'].replace('Mme', 'Mrs')\n",
        "    dataset['Title'] = dataset['Title'].replace('Ms', 'Miss')\n",
        "\n",
        "train[['Title', 'Survived']].groupby(['Title'], as_index=False).mean()"
      ],
      "metadata": {
        "execution": {
          "iopub.status.busy": "2022-04-11T13:14:36.219443Z",
          "iopub.execute_input": "2022-04-11T13:14:36.219706Z",
          "iopub.status.idle": "2022-04-11T13:14:36.241645Z",
          "shell.execute_reply.started": "2022-04-11T13:14:36.219665Z",
          "shell.execute_reply": "2022-04-11T13:14:36.240779Z"
        },
        "trusted": true,
        "id": "74CmV7TYmvPu"
      },
      "execution_count": null,
      "outputs": []
    },
    {
      "cell_type": "code",
      "source": [
        "for dataset in train_and_test:\n",
        "    dataset['Title'] = dataset['Title'].astype(str)\n",
        "\n",
        "train.head(5)"
      ],
      "metadata": {
        "execution": {
          "iopub.status.busy": "2022-04-11T13:14:36.309542Z",
          "iopub.execute_input": "2022-04-11T13:14:36.309836Z",
          "iopub.status.idle": "2022-04-11T13:14:36.327688Z",
          "shell.execute_reply.started": "2022-04-11T13:14:36.309796Z",
          "shell.execute_reply": "2022-04-11T13:14:36.327054Z"
        },
        "trusted": true,
        "id": "xCpCNEz0mvPu"
      },
      "execution_count": null,
      "outputs": []
    },
    {
      "cell_type": "code",
      "source": [
        "for dataset in train_and_test:\n",
        "    dataset['Sex'] = dataset['Sex'].astype(str)\n",
        "    \n",
        "train.head(26)"
      ],
      "metadata": {
        "execution": {
          "iopub.status.busy": "2022-04-11T13:14:36.458969Z",
          "iopub.execute_input": "2022-04-11T13:14:36.459557Z",
          "iopub.status.idle": "2022-04-11T13:14:36.483989Z",
          "shell.execute_reply.started": "2022-04-11T13:14:36.459516Z",
          "shell.execute_reply": "2022-04-11T13:14:36.483035Z"
        },
        "trusted": true,
        "id": "fWMTsFQ1mvPu"
      },
      "execution_count": null,
      "outputs": []
    },
    {
      "cell_type": "code",
      "source": [
        "train.Embarked.unique()"
      ],
      "metadata": {
        "execution": {
          "iopub.status.busy": "2022-04-11T13:14:36.587259Z",
          "iopub.execute_input": "2022-04-11T13:14:36.587604Z",
          "iopub.status.idle": "2022-04-11T13:14:36.59506Z",
          "shell.execute_reply.started": "2022-04-11T13:14:36.587565Z",
          "shell.execute_reply": "2022-04-11T13:14:36.593891Z"
        },
        "trusted": true,
        "id": "WX7_4fE6mvPv"
      },
      "execution_count": null,
      "outputs": []
    },
    {
      "cell_type": "code",
      "source": [
        "train.Embarked.value_counts(dropna=False)"
      ],
      "metadata": {
        "execution": {
          "iopub.status.busy": "2022-04-11T13:14:36.674001Z",
          "iopub.execute_input": "2022-04-11T13:14:36.674526Z",
          "iopub.status.idle": "2022-04-11T13:14:36.683206Z",
          "shell.execute_reply.started": "2022-04-11T13:14:36.674486Z",
          "shell.execute_reply": "2022-04-11T13:14:36.68217Z"
        },
        "trusted": true,
        "id": "VmJKzd6kmvPv"
      },
      "execution_count": null,
      "outputs": []
    },
    {
      "cell_type": "code",
      "source": [
        "for dataset in train_and_test:\n",
        "    dataset['Embarked'] = dataset['Embarked'].fillna('S')\n",
        "\n",
        "train[['Embarked', 'Survived']].groupby(['Embarked'], as_index=False).mean()"
      ],
      "metadata": {
        "execution": {
          "iopub.status.busy": "2022-04-11T13:14:36.756998Z",
          "iopub.execute_input": "2022-04-11T13:14:36.757359Z",
          "iopub.status.idle": "2022-04-11T13:14:36.775887Z",
          "shell.execute_reply.started": "2022-04-11T13:14:36.757323Z",
          "shell.execute_reply": "2022-04-11T13:14:36.774929Z"
        },
        "trusted": true,
        "id": "acSRWraLmvPv"
      },
      "execution_count": null,
      "outputs": []
    },
    {
      "cell_type": "code",
      "source": [
        "for dataset in train_and_test:\n",
        "    dataset['Embarked'] = dataset['Embarked'].astype(str)"
      ],
      "metadata": {
        "execution": {
          "iopub.status.busy": "2022-04-11T13:14:36.875655Z",
          "iopub.execute_input": "2022-04-11T13:14:36.876435Z",
          "iopub.status.idle": "2022-04-11T13:14:36.885225Z",
          "shell.execute_reply.started": "2022-04-11T13:14:36.876381Z",
          "shell.execute_reply": "2022-04-11T13:14:36.884128Z"
        },
        "trusted": true,
        "id": "LVk0sM75mvPw"
      },
      "execution_count": null,
      "outputs": []
    },
    {
      "cell_type": "code",
      "source": [
        "for dataset in train_and_test:\n",
        "    dataset['Age'].fillna(dataset['Age'].mean(), inplace=True)\n",
        "    dataset['Age'] = dataset['Age'].astype(int)\n",
        "    train['AgeBand'] = pd.cut(train['Age'], 5)\n",
        "print (train[['AgeBand', 'Survived']].groupby(['AgeBand'], as_index=False).mean())"
      ],
      "metadata": {
        "execution": {
          "iopub.status.busy": "2022-04-11T13:14:37.068108Z",
          "iopub.execute_input": "2022-04-11T13:14:37.068732Z",
          "iopub.status.idle": "2022-04-11T13:14:37.090595Z",
          "shell.execute_reply.started": "2022-04-11T13:14:37.068682Z",
          "shell.execute_reply": "2022-04-11T13:14:37.08968Z"
        },
        "trusted": true,
        "id": "kgTlOd7wmvPw"
      },
      "execution_count": null,
      "outputs": []
    },
    {
      "cell_type": "code",
      "source": [
        "#pd.options.mode.chained_assignment = None\n",
        "#title_list = train.Title.unique()\n",
        "#for dataset in train_and_test:\n",
        "#    for title in title_list:\n",
        "#        age_mean = dataset[dataset['Title'] == title]['Age'].mean()\n",
        "#        dataset[dataset['Title'] == title]['Age'].fillna(age_mean, inplace=True)\n",
        "#        print(dataset[dataset['Title'] == title]['Age'])\n",
        "#        \n",
        "#    print(dataset['Age'].isnull().sum())\n",
        "#    #dataset['Age'] = dataset['Age'].astype(int)\n",
        "#\n",
        "#train['AgeBand'] = pd.cut(train['Age'], 5)\n",
        "#print (train[['AgeBand', 'Survived']].groupby(['AgeBand'], as_index=False).mean())"
      ],
      "metadata": {
        "execution": {
          "iopub.status.busy": "2022-04-11T13:14:37.176853Z",
          "iopub.execute_input": "2022-04-11T13:14:37.178026Z",
          "iopub.status.idle": "2022-04-11T13:14:37.183376Z",
          "shell.execute_reply.started": "2022-04-11T13:14:37.177889Z",
          "shell.execute_reply": "2022-04-11T13:14:37.182422Z"
        },
        "trusted": true,
        "id": "vljnqdWWmvPw"
      },
      "execution_count": null,
      "outputs": []
    },
    {
      "cell_type": "code",
      "source": [
        "for dataset in train_and_test:\n",
        "    dataset.loc[ dataset['Age'] > 16, 'Age'] = 0\n",
        "    dataset.loc[(dataset['Age'] > 16) & (dataset['Age'] <= 32), 'Age'] = 1\n",
        "    dataset.loc[(dataset['Age'] > 32) & (dataset['Age'] <= 48), 'Age'] = 2\n",
        "    dataset.loc[(dataset['Age'] > 48) & (dataset['Age'] <= 64), 'Age'] = 3\n",
        "    dataset.loc[ dataset['Age'] > 64, 'Age'] = 4\n",
        "    dataset['Age'] = dataset['Age'].map( { 0: 'Child',  1: 'Young', 2: 'Middle', 3: 'Prime', 4: 'Old'} ).astype(str)"
      ],
      "metadata": {
        "execution": {
          "iopub.status.busy": "2022-04-11T13:14:37.286279Z",
          "iopub.execute_input": "2022-04-11T13:14:37.286593Z",
          "iopub.status.idle": "2022-04-11T13:14:37.305787Z",
          "shell.execute_reply.started": "2022-04-11T13:14:37.286562Z",
          "shell.execute_reply": "2022-04-11T13:14:37.30478Z"
        },
        "trusted": true,
        "id": "B8-h48LymvPx"
      },
      "execution_count": null,
      "outputs": []
    },
    {
      "cell_type": "code",
      "source": [
        "print (train[['Pclass', 'Fare']].groupby(['Pclass'], as_index=False).mean())\n",
        "print(\"\")\n",
        "print(test[test[\"Fare\"].isnull()][\"Pclass\"])"
      ],
      "metadata": {
        "execution": {
          "iopub.status.busy": "2022-04-11T13:14:37.41983Z",
          "iopub.execute_input": "2022-04-11T13:14:37.420165Z",
          "iopub.status.idle": "2022-04-11T13:14:37.433963Z",
          "shell.execute_reply.started": "2022-04-11T13:14:37.420131Z",
          "shell.execute_reply": "2022-04-11T13:14:37.433023Z"
        },
        "trusted": true,
        "id": "lPMNbIGAmvPx"
      },
      "execution_count": null,
      "outputs": []
    },
    {
      "cell_type": "code",
      "source": [
        "for dataset in train_and_test:\n",
        "    dataset['Fare'] = dataset['Fare'].fillna(13.675)"
      ],
      "metadata": {
        "execution": {
          "iopub.status.busy": "2022-04-11T13:14:37.548852Z",
          "iopub.execute_input": "2022-04-11T13:14:37.549703Z",
          "iopub.status.idle": "2022-04-11T13:14:37.556123Z",
          "shell.execute_reply.started": "2022-04-11T13:14:37.549641Z",
          "shell.execute_reply": "2022-04-11T13:14:37.55506Z"
        },
        "trusted": true,
        "id": "pYNm4NUImvPx"
      },
      "execution_count": null,
      "outputs": []
    },
    {
      "cell_type": "code",
      "source": [
        "for dataset in train_and_test:\n",
        "    dataset.loc[ dataset['Fare'] <= 7.854, 'Fare'] = 0\n",
        "    dataset.loc[(dataset['Fare'] > 7.854) & (dataset['Fare'] <= 10.5), 'Fare'] = 1\n",
        "    dataset.loc[(dataset['Fare'] > 10.5) & (dataset['Fare'] <= 21.679), 'Fare']   = 2\n",
        "    dataset.loc[(dataset['Fare'] > 21.679) & (dataset['Fare'] <= 39.688), 'Fare']   = 3\n",
        "    dataset.loc[ dataset['Fare'] > 39.688, 'Fare'] = 4\n",
        "    dataset['Fare'] = dataset['Fare'].astype(int)\n",
        "    \n",
        "train.head()"
      ],
      "metadata": {
        "execution": {
          "iopub.status.busy": "2022-04-11T13:14:37.68315Z",
          "iopub.execute_input": "2022-04-11T13:14:37.683443Z",
          "iopub.status.idle": "2022-04-11T13:14:37.719288Z",
          "shell.execute_reply.started": "2022-04-11T13:14:37.6834Z",
          "shell.execute_reply": "2022-04-11T13:14:37.718235Z"
        },
        "trusted": true,
        "id": "vhAiZrgfmvPx"
      },
      "execution_count": null,
      "outputs": []
    },
    {
      "cell_type": "code",
      "source": [
        "for dataset in train_and_test:\n",
        "    dataset[\"Family\"] = dataset[\"Parch\"] + dataset[\"SibSp\"]\n",
        "    dataset['Family'] = dataset['Family'].astype(int)"
      ],
      "metadata": {
        "execution": {
          "iopub.status.busy": "2022-04-11T13:14:37.811147Z",
          "iopub.execute_input": "2022-04-11T13:14:37.811576Z",
          "iopub.status.idle": "2022-04-11T13:14:37.819502Z",
          "shell.execute_reply.started": "2022-04-11T13:14:37.811546Z",
          "shell.execute_reply": "2022-04-11T13:14:37.81846Z"
        },
        "trusted": true,
        "id": "DTWc6lcymvPy"
      },
      "execution_count": null,
      "outputs": []
    },
    {
      "cell_type": "code",
      "source": [
        "features_drop = ['Name', 'Ticket', 'Cabin', 'SibSp', 'Parch']\n",
        "train = train.drop(features_drop, axis=1)\n",
        "test = test.drop(features_drop, axis=1)\n",
        "train = train.drop(['PassengerId', 'AgeBand', 'Fare'], axis=1)\n",
        "\n",
        "print(train.head())\n",
        "print(test.head())"
      ],
      "metadata": {
        "execution": {
          "iopub.status.busy": "2022-04-11T13:14:37.950312Z",
          "iopub.execute_input": "2022-04-11T13:14:37.950739Z",
          "iopub.status.idle": "2022-04-11T13:14:37.966072Z",
          "shell.execute_reply.started": "2022-04-11T13:14:37.950707Z",
          "shell.execute_reply": "2022-04-11T13:14:37.965355Z"
        },
        "trusted": true,
        "id": "9ggtysDemvPy"
      },
      "execution_count": null,
      "outputs": []
    },
    {
      "cell_type": "code",
      "source": [
        "train = pd.get_dummies(train)\n",
        "test = pd.get_dummies(test)\n",
        "\n",
        "train_label = train['Survived']\n",
        "train_data = train.drop('Survived', axis=1)\n",
        "test_data = test.drop(\"PassengerId\", axis=1).copy()\n",
        "\n",
        "print(train_data.shape, train_label.shape, test_data.shape)"
      ],
      "metadata": {
        "execution": {
          "iopub.status.busy": "2022-04-11T13:14:38.072648Z",
          "iopub.execute_input": "2022-04-11T13:14:38.072929Z",
          "iopub.status.idle": "2022-04-11T13:14:38.097711Z",
          "shell.execute_reply.started": "2022-04-11T13:14:38.072897Z",
          "shell.execute_reply": "2022-04-11T13:14:38.097074Z"
        },
        "trusted": true,
        "id": "sgssazffmvPy"
      },
      "execution_count": null,
      "outputs": []
    },
    {
      "cell_type": "code",
      "source": [
        "from sklearn.linear_model import LogisticRegression\n",
        "from sklearn.svm import SVC\n",
        "from sklearn.neighbors import KNeighborsClassifier\n",
        "from sklearn.ensemble import RandomForestClassifier\n",
        "from sklearn.naive_bayes import GaussianNB\n",
        "\n",
        "from sklearn.utils import shuffle"
      ],
      "metadata": {
        "execution": {
          "iopub.status.busy": "2022-04-11T13:14:38.197104Z",
          "iopub.execute_input": "2022-04-11T13:14:38.19737Z",
          "iopub.status.idle": "2022-04-11T13:14:38.202398Z",
          "shell.execute_reply.started": "2022-04-11T13:14:38.197342Z",
          "shell.execute_reply": "2022-04-11T13:14:38.201066Z"
        },
        "trusted": true,
        "id": "ocubcOgHmvPy"
      },
      "execution_count": null,
      "outputs": []
    },
    {
      "cell_type": "code",
      "source": [
        "train_data, train_label = shuffle(train_data, train_label, random_state = 5)"
      ],
      "metadata": {
        "execution": {
          "iopub.status.busy": "2022-04-11T13:14:38.320344Z",
          "iopub.execute_input": "2022-04-11T13:14:38.321132Z",
          "iopub.status.idle": "2022-04-11T13:14:38.327907Z",
          "shell.execute_reply.started": "2022-04-11T13:14:38.32109Z",
          "shell.execute_reply": "2022-04-11T13:14:38.32686Z"
        },
        "trusted": true,
        "id": "Yd6VD1OlmvPy"
      },
      "execution_count": null,
      "outputs": []
    },
    {
      "cell_type": "code",
      "source": [
        "def train_and_test(model):\n",
        "    model.fit(train_data, train_label)\n",
        "    prediction = model.predict(test_data)\n",
        "    accuracy = round(model.score(train_data, train_label) * 100, 2)\n",
        "    print(\"Accuracy : \", accuracy, \"%\")\n",
        "    return prediction"
      ],
      "metadata": {
        "execution": {
          "iopub.status.busy": "2022-04-11T13:14:38.443872Z",
          "iopub.execute_input": "2022-04-11T13:14:38.44477Z",
          "iopub.status.idle": "2022-04-11T13:14:38.45039Z",
          "shell.execute_reply.started": "2022-04-11T13:14:38.444721Z",
          "shell.execute_reply": "2022-04-11T13:14:38.449628Z"
        },
        "trusted": true,
        "id": "AaQefQ-BmvPz"
      },
      "execution_count": null,
      "outputs": []
    },
    {
      "cell_type": "code",
      "source": [
        "# Logistic Regression\n",
        "log_pred = train_and_test(LogisticRegression())\n",
        "# SVM\n",
        "svm_pred = train_and_test(SVC())\n",
        "#kNN\n",
        "knn_pred_4 = train_and_test(KNeighborsClassifier(n_neighbors = 4))\n",
        "# Random Forest\n",
        "rf_pred = train_and_test(RandomForestClassifier(n_estimators=100))\n",
        "# Navie Bayes\n",
        "nb_pred = train_and_test(GaussianNB())"
      ],
      "metadata": {
        "execution": {
          "iopub.status.busy": "2022-04-11T13:14:38.569616Z",
          "iopub.execute_input": "2022-04-11T13:14:38.570149Z",
          "iopub.status.idle": "2022-04-11T13:14:39.121875Z",
          "shell.execute_reply.started": "2022-04-11T13:14:38.570099Z",
          "shell.execute_reply": "2022-04-11T13:14:39.121122Z"
        },
        "trusted": true,
        "id": "cxeLLglemvPz"
      },
      "execution_count": null,
      "outputs": []
    },
    {
      "cell_type": "code",
      "source": [
        "test.head()"
      ],
      "metadata": {
        "execution": {
          "iopub.status.busy": "2022-04-11T13:14:39.124081Z",
          "iopub.execute_input": "2022-04-11T13:14:39.125661Z",
          "iopub.status.idle": "2022-04-11T13:14:39.142001Z",
          "shell.execute_reply.started": "2022-04-11T13:14:39.125606Z",
          "shell.execute_reply": "2022-04-11T13:14:39.141073Z"
        },
        "trusted": true,
        "id": "eceJutZbmvPz"
      },
      "execution_count": null,
      "outputs": []
    },
    {
      "cell_type": "code",
      "source": [
        "submission = pd.DataFrame({\n",
        "    \"PassengerId\": test[\"PassengerId\"],\n",
        "    \"Survived\": rf_pred\n",
        "})\n",
        "\n",
        "submission.to_csv('submission_HBLEE.csv', index=False)"
      ],
      "metadata": {
        "execution": {
          "iopub.status.busy": "2022-04-11T13:14:39.143681Z",
          "iopub.execute_input": "2022-04-11T13:14:39.144195Z",
          "iopub.status.idle": "2022-04-11T13:14:39.158588Z",
          "shell.execute_reply.started": "2022-04-11T13:14:39.144145Z",
          "shell.execute_reply": "2022-04-11T13:14:39.157314Z"
        },
        "trusted": true,
        "id": "ZAXw1MxomvPz"
      },
      "execution_count": null,
      "outputs": []
    }
  ]
}